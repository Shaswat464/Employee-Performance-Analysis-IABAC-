{
 "cells": [
  {
   "cell_type": "markdown",
   "metadata": {},
   "source": [
    "## Employee Performance Analysis\n",
    "## INX Future Inc.\n",
    "\n",
    "Candidate Name : Shaswat Kumar Pradhan\n",
    "\n",
    "Candidate E-Mail : shaswatpradhan464@gmail.com\n",
    "\n",
    "Project Code : 10281\n",
    "\n",
    "REP Name : DataMites™ Solutions Pvt Ltd\n",
    "\n",
    "Assesment ID : E10901-PR2-V18\n",
    "\n",
    "Module : Certified Data Scientist - Project\n",
    "\n",
    "Exam Format : Open Project- IABAC™ Project Submission\n",
    "\n",
    "Project Assessment : IABAC™\n",
    "\n",
    "Registered Trainer : Ashok Kumar A\n",
    "\n",
    "Submission Deadline Date: 07-Sept-2024"
   ]
  },
  {
   "cell_type": "markdown",
   "metadata": {},
   "source": [
    "# PROJECT SUMMARY:"
   ]
  },
  {
   "cell_type": "markdown",
   "metadata": {},
   "source": [
    "## BUISNESSCASE & GOAL OF PROJECT: BASED ON GIVEN FEATURE OF DATASET WE NEED TO PREDICT THE PERFOMANCE RATING OF EMPLOYEE"
   ]
  },
  {
   "cell_type": "markdown",
   "metadata": {},
   "source": [
    "### INX Future Inc Employee Performance - Project"
   ]
  },
  {
   "cell_type": "markdown",
   "metadata": {},
   "source": [
    "The Data science project which is given here is an analysis of employee performance."
   ]
  },
  {
   "cell_type": "markdown",
   "metadata": {},
   "source": [
    "**The Goal and Insights of the project are as follows:**\n",
    "\n",
    "* Department wise performances\n",
    "* Top 3 Important Factors effecting employee performance\n",
    "* A trained model which can predict the employee performance based on factors as inputs. This will be used to hire employees\n",
    "* Recommendations to improve the employee performance based on insights from analysis\n",
    "\n",
    "\n",
    "The given Employee dataset consist of 1200 rows. The features present in the data are 28 columns. The shape of the dataset is 1200x28. The 28 features are classified into quantitative and qualitative where 19 features are quantitative (11 columns consists numeric data & 8 columns consists ordinal data) and 8 features are qualitative. EmpNumber consist alphanumerical data (distinct values) which doesn't play a role as a relevant feature for performance rating.\n",
    "\n",
    "From Correlation we can get the important aspects of the data, Correlation between features and Performance Rating.Correlation is a statistical measure that expresses the extent to which two variables are linearly related.The analysis of the project has gone through the stage of Univariate,Bivariate & Multivariate analysis, correlation analysis and analysis by each department to satisfy the project goal.\n",
    "\n",
    "The dataset consists of Categorical data and Numerical data. The Target variable consist of ordinal data, so this is a classification problem.The multiple machine learning model used in this project is Support vector classifier, Random forest classifier, XgBoost, Decision Tree & Artifical neural network[Multilayer percepton]. from above all models Artifical neural network[Multilayer percepton] predicts higher accuracy 100%.\n",
    "\n",
    "One of the important goal of this project is to find the important feature affecting the performance rating. The important features were predicted using the machine learning model feature importance technique. The main technique used in the preprocessing data using the Mannual & Frequency encoding method to convert the string - categorical data into numerical data, because, Most of machine learning methods are based on numerical methods where strings are not supportive. The overall project was performed and achieved the goals by using the machine learning model and visualization techniques."
   ]
  },
  {
   "cell_type": "markdown",
   "metadata": {},
   "source": [
    "## **1. Requirement**"
   ]
  },
  {
   "cell_type": "markdown",
   "metadata": {},
   "source": [
    "The data was given from the IABAC for this project where the collected source is IABAC™. The data is based on INX Future Inc, (referred as INX ). It is one of the leading data analytics and automation solutions provider with over 15 years of global business presence. INX is consistently rated as top 20 best employers past 5 years. The data is not from the real organization. The whole project was done in Jupiter notebook with python platform."
   ]
  },
  {
   "cell_type": "markdown",
   "metadata": {},
   "source": [
    "## **2. Analysis**"
   ]
  },
  {
   "cell_type": "markdown",
   "metadata": {},
   "source": [
    "Data were analyzed by describing the features present in the data. the features play the bigger part in the analysis. The features tell the relation between the dependent and independent variables. Pandas also help to describe the datasets answering following questions early in our project. The data present in the dataset are divided into numerical and categorical data."
   ]
  },
  {
   "cell_type": "markdown",
   "metadata": {},
   "source": [
    "#### Categorical Features\n",
    "\n",
    "* EmpNumber\n",
    "* Gender\n",
    "* EducationBackground\n",
    "* MaritalStatus\n",
    "* EmpDepartment\n",
    "* EmpJobRole\n",
    "* BusinessTravelFrequency\n",
    "* OverTime\n",
    "* Attrition"
   ]
  },
  {
   "cell_type": "markdown",
   "metadata": {},
   "source": [
    "#### Numerical Features\n",
    "* Age\n",
    "* DistanceFromHome\n",
    "* EmpHourlyRate\n",
    "* NumCompaniesWorked\n",
    "* EmpLastSalaryHikePercent\n",
    "* TotalWorkExperienceInYears\n",
    "* TrainingTimesLastYear\n",
    "* ExperienceYearsAtThisCompany\n",
    "* ExperienceYearsInCurrentRole\n",
    "* YearsSinceLastPromotion\n",
    "* YearsWithCurrManager"
   ]
  },
  {
   "cell_type": "markdown",
   "metadata": {},
   "source": [
    "#### Ordinal Features\n",
    "* EmpEducationLevel\n",
    "* EmpEnvironmentSatisfaction\n",
    "* EmpJobInvolvement\n",
    "* EmpJobLevel\n",
    "* EmpJobSatisfaction\n",
    "* EmpRelationshipSatisfaction\n",
    "* EmpWorkLifeBalance\n",
    "* PerformanceRating"
   ]
  },
  {
   "cell_type": "markdown",
   "metadata": {},
   "source": [
    "## **3.Univariate, Bivariate & Multivariate Analysis**\n",
    "* Library Used: Matplotlib & Seaborn\n",
    "* Plots Used: Histplot, Lineplot, CountPlot, Barplot\n",
    "* Tip: All Observation or insights written below the plots"
   ]
  },
  {
   "cell_type": "markdown",
   "metadata": {},
   "source": [
    "**Univariate Analysis:** In univariate analysis we get the unique labels of categorical features, as well as get the range & density of numbers.\n",
    "\n",
    "**Bivariate Analysis:** In bivariate analysis we check the feature relationship with target veriable.\n",
    "\n",
    "**Multivariate Analysis:** In multivariate Analysis check the relationship between two veriable with respect to the target veriable.\n",
    "\n"
   ]
  },
  {
   "cell_type": "markdown",
   "metadata": {},
   "source": [
    "##### CONCLUSION\n",
    "There are some features are positively correlated with performance rating( Target variable) [Emp Environment Satisfaction,Emp Last Salary Hike Percent,Emp Work Life Balance]"
   ]
  },
  {
   "cell_type": "markdown",
   "metadata": {},
   "source": [
    "## **4.Explotary Data Analysis**"
   ]
  },
  {
   "cell_type": "markdown",
   "metadata": {},
   "source": [
    "**Basic Check & Statistical Measures:**\n",
    "\n",
    "Their is no constant column is present in Numerical as well as categoriacl data."
   ]
  },
  {
   "cell_type": "markdown",
   "metadata": {},
   "source": [
    "#### Distribution of Continuous Features:\n",
    "In general, one of the first few steps in exploring the data would be to have a rough idea of how the features are distributed with one another. To do so, we shall invoke the familiar distplot function from the Seaborn plotting library. The distribution has been done by both numerical features. it will show the overall idea about the density and majority of data present in a different level.\n",
    "\n",
    "The age distribution is starting from 18 to 60 where the most of the employees are laying between 30 to 40 age count\n",
    "Employees are worked in the multiple companies up to 8 companies where most of the employees worked up to 2 companies before getting to work here.\n",
    "The hourly rate range is 65 to 95 for majority employees work in this company.\n",
    "In General, Most of Employees work up to 5 years in this company. Most of the employees get 11% to 15% of salary hike in this company."
   ]
  },
  {
   "cell_type": "markdown",
   "metadata": {},
   "source": [
    "##### Check Skewness and Kurtosis of Numerical Features\n",
    "Checking weather the data is Normally distributed or Not with Skewness and Kurtosis,\n",
    "\n",
    "YearsSinceLastPromotion, This column is skewed\n",
    "skewness for YearsSinceLastPromotion: 1.9749315589155791\n",
    "kurtosis for YearsSinceLastPromotion: 3.5390800793468817"
   ]
  },
  {
   "cell_type": "markdown",
   "metadata": {},
   "source": [
    "## **5.Data Pre-Processing**"
   ]
  },
  {
   "cell_type": "markdown",
   "metadata": {},
   "source": [
    "1.Check Missing Value: Their is no missing value in data\n",
    "\n",
    "2.Categorical Data Conversion: Handel categorical data with the help of frequency and mannual encoding, because feature is contain lot's of labels\n",
    "\n",
    "* Mannual Encoding: Mannual encoding is a best techinque to handel categorical feature with the help of map function, map the labels based on frequency.\n",
    "\n",
    "* Frequency Encoding: Frequency encoding is an encoding technique to transform an original categorical variable to a numerical variable by considering the frequency distribution of the data getting value counts."
   ]
  },
  {
   "cell_type": "markdown",
   "metadata": {},
   "source": [
    "3.Outlier Handling Some features are contain outliers so we are impute this outlier with the help of IQR because in all features data is not normally distributed\n",
    "\n",
    "4.Feature Transformation: In YearsSinceLastPromotion some skewed & kurtosis is present, so we are use Square Root Transformation techinque\n",
    "\n",
    "* Square root transformation: Square root transformation is one of the many types of standard transformations.This transformation is used for count data (data that follow a Poisson distribution) or small whole numbers. Each data point is replaced by its square root. Negative data is converted to positive by adding a constant, and then transformed.\n",
    "* Q-Q Plot: Q–Q plot is a probability plot, a graphical method for comparing two probability distributions by plotting their quantiles against each other.\n",
    "\n",
    "5.Scaling The Data: scaling the data with the help of Standard scalar\n",
    "\n",
    "* Standard Scaling: Standardization is the process of scaling the feature,it assumes the feature follow normal distribution and scale the feature between mean and standard deviation, here mean is 0 and standard deviation is always 1."
   ]
  },
  {
   "cell_type": "markdown",
   "metadata": {},
   "source": [
    "## **6.Future Selection**\n",
    "**1.Drop unique and constant feature:** Dropping employee number because this is a constant column as well as drop Years Since Last Promotion because we create a new feaure using square root transformation\n",
    "\n",
    "**2.Checking Correlation:** Checking correlation with the help of heat map, and get the their is no highly correlated feature is present.\n",
    "\n",
    "* Heatmap: A heatmap is a graphical representation of data that uses a system of color-coding to represent different values.\n",
    "\n",
    "**3.Check Duplicates:** In this data is no dupicates is present.\n",
    "\n",
    "**4.PCA:** Use pca to reduce the dimension of data, Data is contain total 27 feature after dropping unique and constant column,from PCA it shows the 25 feature has less varaince loss, so we are going to select 25 feature.\n",
    "\n",
    "* Principal component analysis (PCA) is a popular technique for analyzing large datasets containing a high number of dimensions/features per observation, increasing the interpretability of data while preserving the maximum amount of information, and enabling the visualization of multidimensional data. Formally, PCA is a statistical technique for reducing the dimensionality of a dataset.\n",
    "\n",
    "**5.Saving Pre-Process Data:** save the all preprocess data in new file and add target feature to it.\n",
    "\n"
   ]
  },
  {
   "cell_type": "markdown",
   "metadata": {},
   "source": [
    "## **7.Machine learning Model Creation & Evaluation**\n",
    "**1.Define Dependant and Independant Features:**\n",
    "\n",
    "**2.Balancing the data:** The data is imbalance, so we need to balance the data with the help of SMOTE\n",
    "\n",
    "* SMOTE: SMOTE (synthetic minority oversampling technique) is one of the most commonly used oversampling methods to solve the imbalance problem. It aims to balance class distribution by randomly increasing minority class examples by replicating them. SMOTE synthesises new minority instances between existing minority instances.\n",
    "\n",
    "**3.Splitting Training And Testing Data:** 80% data use for training & 20% data used for testing\n",
    "\n",
    "**Algorithm:**\n",
    "\n",
    "AIM: Create a sweet spot model (Low bias, Low variance)"
   ]
  },
  {
   "cell_type": "markdown",
   "metadata": {},
   "source": [
    "**HERE WE WILL BE EXPERIMENTING WITH THREE ALGORITHM**"
   ]
  },
  {
   "cell_type": "markdown",
   "metadata": {},
   "source": [
    "* Support vector classifier\n",
    "* Random forest classifier\n",
    "* XgBoost\n",
    "* Decision Tree\n",
    "* Artifical neural network[Multilayer percepton]"
   ]
  },
  {
   "cell_type": "markdown",
   "metadata": {},
   "source": [
    "## **6.Saving Model**\n",
    "* Save model with the help of pickle file"
   ]
  },
  {
   "cell_type": "markdown",
   "metadata": {},
   "source": [
    "##### Tools and Library Used:\n",
    "##### Tools:\n",
    "* Jupyter Notebook\n",
    "* Vscode editor\n",
    "##### Library Used:\n",
    "* Pandas\n",
    "* Numpy\n",
    "* Matplotlib\n",
    "* Seaborn\n",
    "* pylab\n",
    "* Scipy\n",
    "* Sklearn\n",
    "* Pickle"
   ]
  },
  {
   "cell_type": "markdown",
   "metadata": {},
   "source": [
    "#### Goal 1: Department Wise Performances\n",
    "**PLOT USED**\n",
    "\n",
    "* **Violinplot:** It shows the distribution of quantitative data across several levels of one (or more) categorical variables such that those distributions can be compared.\n",
    "* **CountPlot:** countplot is used to Show the counts of observations in each categorical bin using bars.\n",
    "* **Sales:** The Performace rating level 3 is more in the sales department. The male performance rating the little bit higher compared to female.\n",
    "\n",
    " **Human Resources:** The majority of the employees lying under the level 3 performance . The older people are performing low in this department. The female employees in HR department doing really well in their performance.\n",
    "\n",
    "**Development:** The maximum number of employees are level 3 performers. Employees of all age are performing at the level of 3 only. The gender-based performance is nearly same for both.\n",
    "\n",
    "**Data Science:** The highest average of level 3 performance is in data science department. Data science is the only department where less number of level 2 performers. The overall performance is higher compared to all departments. Male employees are doing good in this department.\n",
    "\n",
    "**Research & Development:** The age factor is not deviating from the level of performance here where different employees with different age are there in every level of performance. The R&D has the good female employees in their performance.\n",
    "\n",
    "**Finance:** The finance department performance is exponentially decreasing when age increases. The male employees are doing good. The experience factor is inversely relating to the performance level."
   ]
  },
  {
   "cell_type": "markdown",
   "metadata": {},
   "source": [
    "##### Goal 2: Top 3 Important Factors effecting employee performance\n",
    "\n",
    "The top three important features affecting the performance rating are ordered with their importance level as follows,\n",
    "\n",
    "* Employment Environment Satisfaction\n",
    "* Employee Salary Hike Percentage\n",
    "* Experience Years In CurrentRole\n",
    "\n",
    "**Employee Enviroment satisfaction:** Maximum Number of Employees Performance Rating belongs to EmpEnvironmentSatisfaction Level 3 & Level 4, It contains 367 & 361.\n",
    "\n",
    "**Employee last salary hike percent:** More Number of Employees whose salary hike percentage belongs to 11-19 % are getting 2 & 3 performance rating Maximum time. as well asEmployees whose salary hike percentage is in between 20-22%, There performance rating is 4.\n",
    "\n",
    "**Employee work life balance:** In EmpWorkLifeBalance, level 3 is showing high Performance Rating of employees\n",
    "\n"
   ]
  },
  {
   "cell_type": "markdown",
   "metadata": {},
   "source": [
    "##### Goal 3: A Trained model which can predict the employee performance\n",
    "The trained model is created using the machine learning algorithm as follows with the accuracy score,\n",
    "\n",
    "* Support Vector Classifier: Training Accuracy: 100.00%, Test Accuracy: 100.00%\n",
    "* Artifical Neural Network [Multilayer percepton]: Training Accuracy: 100.00%,Test Accuracy: 100.00% \n",
    "* Random Forest classifier: Training Accuracy: 100.00%, Test Accuracy: 99.42%\n",
    "* Decision Tree: Training Accuracy: 99.38%, Test Accuracy: 93.14%\n",
    "* XgBosst: Training Accuracy: 100.00%, Test Accuracy: 98.66%\n",
    "\n",
    "\n",
    "So we are select Artifical neural network [Multilayer percepton] model."
   ]
  },
  {
   "cell_type": "markdown",
   "metadata": {},
   "source": [
    "##### Goal 4: Recommendations to improve the employee performance\n",
    "The overall employee performance can be achieved by employee environment satisfaction. The company needs to focus more on the employee environment satisfaction.\n",
    "The salary hike will give the boost to the employees to perform well.\n",
    "Promote the employee ervery 6th month\n",
    "Improve Employee's work-life balance this affects the performance rating.\n",
    "While recruiting for HR, consider the female candidates where they perform well compared to male.\n",
    "The development and sales department is having an overall higher performance comparing to rest of the departments. While some of the employees who gives feedback like Low & Medium from Job Satisfaction & Relationship Satisfaction feature, such employees gives Excellent performance more in number. So company should focus on them."
   ]
  },
  {
   "cell_type": "markdown",
   "metadata": {},
   "source": []
  }
 ],
 "metadata": {
  "language_info": {
   "name": "python"
  }
 },
 "nbformat": 4,
 "nbformat_minor": 2
}
